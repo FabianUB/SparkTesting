{
 "cells": [
  {
   "cell_type": "code",
   "execution_count": 12,
   "metadata": {},
   "outputs": [],
   "source": [
    "#Importing the necessary modules\n",
    "\n",
    "import findspark\n",
    "from pyspark import SparkContext\n",
    "from pyspark.sql import SparkSession, Window, Row\n",
    "from pyspark.sql.functions import *\n",
    "from pyspark.sql.types import *\n",
    "import matplotlib.pyplot as plt\n"
   ]
  },
  {
   "cell_type": "code",
   "execution_count": 21,
   "metadata": {},
   "outputs": [],
   "source": [
    "#Creating or getting the Spark session\n",
    "spark = SparkSession.builder.appName(\"testingApplication\").getOrCreate()"
   ]
  },
  {
   "cell_type": "code",
   "execution_count": 26,
   "metadata": {},
   "outputs": [],
   "source": [
    "#Basic Functions\n",
    "\n",
    "def load_df(filename):\n",
    "    df = spark.read.format('csv').options(header=\"true\").load(filename)\n",
    "    return df"
   ]
  },
  {
   "cell_type": "code",
   "execution_count": 31,
   "metadata": {},
   "outputs": [
    {
     "name": "stdout",
     "output_type": "stream",
     "text": [
      "+---+--------------------+--------------------+----------------+-----------------+-------------+\n",
      "|_c0|               title|             degrees|           funds|             date|     location|\n",
      "+---+--------------------+--------------------+----------------+-----------------+-------------+\n",
      "|  0|Schaefer Halleen’...|Master, Bachelor,...|           $1000|     30 June 2022|united-states|\n",
      "|  1|President’s Schol...|Master, Bachelor,...|           $2500|     31 July 2022|united-states|\n",
      "|  2|International Stu...|Master, Bachelor,...|    Up to $2,000| 22 December 2022|united-states|\n",
      "|  3|Master in Busines...|              Master|80% Tuition Fees|15 September 2022|united-states|\n",
      "|  4|Improve Men’s Hea...|Master, Bachelor,...|           $2000|      31 May 2022|united-states|\n",
      "+---+--------------------+--------------------+----------------+-----------------+-------------+\n",
      "\n"
     ]
    }
   ],
   "source": [
    "#Creating a dataframe\n",
    "\n",
    "df = load_df(\"datasets/scholarships.csv\")\n",
    "\n",
    "df.limit(5).show()"
   ]
  },
  {
   "cell_type": "code",
   "execution_count": 47,
   "metadata": {},
   "outputs": [
    {
     "name": "stdout",
     "output_type": "stream",
     "text": [
      "+---+--------------------+--------------------+--------------------+-----------------+--------------+\n",
      "|_c0|               title|             degrees|               funds|             date|      location|\n",
      "+---+--------------------+--------------------+--------------------+-----------------+--------------+\n",
      "| 15|GREAT Scholarship...|              Master|             £10,000|      31 May 2022|united-kingdom|\n",
      "| 16|Diversity Scholar...|              Master|     50% scholarship|      31 May 2022|united-kingdom|\n",
      "| 17|Beth Mead Scholar...|    Bachelor, Master|              £1,200|   31 August 2022|united-kingdom|\n",
      "| 18|Malaysia Scholars...|              Master|              £4,000|     29 June 2022|united-kingdom|\n",
      "| 19|PhD Studentships ...|              Master|£16,062 p.a., tui...|     10 June 2022|united-kingdom|\n",
      "| 20|Strathclyde Busin...|              Master|        Tuition fees|             null|united-kingdom|\n",
      "| 21|International Stu...|Master, Bachelor,...|        Up to $2,000| 22 December 2022|united-kingdom|\n",
      "| 22|Master in Busines...|              Master|    80% Tuition Fees|15 September 2022|united-kingdom|\n",
      "| 23|3 Month F1 Visa S...|              Course|               $1455|      1 July 2022|united-kingdom|\n",
      "| 24|         ArtUniverse|      Master, Course|Full or partial s...| 30 December 2022|united-kingdom|\n",
      "| 25|Engineering: Full...|              Master|Full cost of UK t...|      27 May 2022|united-kingdom|\n",
      "| 26|UEA Law School Co...|              Master|£8,000 tuition fe...|      31 May 2022|united-kingdom|\n",
      "| 27|Saraswati Dalmia ...|         Phd, Master|        Up to £5,353|       2 May 2022|united-kingdom|\n",
      "| 28|The Professor Mik...|              Master|Up to £12,000 tui...|     11 July 2022|united-kingdom|\n",
      "| 29|PhD Studentships ...|                 Phd|                null|  3 December 2022|united-kingdom|\n",
      "| 30|International Stu...|Master, Bachelor,...|        Up to $2,000| 22 December 2022|        canada|\n",
      "| 31|Master in Busines...|              Master|    80% Tuition Fees|15 September 2022|        canada|\n",
      "| 32|Improve Men’s Hea...|Master, Bachelor,...|               $2000|      31 May 2022|        canada|\n",
      "| 33|3 Month F1 Visa S...|              Course|               $1455|      1 July 2022|        canada|\n",
      "| 34|         ArtUniverse|      Master, Course|Full or partial s...| 30 December 2022|        canada|\n",
      "+---+--------------------+--------------------+--------------------+-----------------+--------------+\n",
      "only showing top 20 rows\n",
      "\n"
     ]
    }
   ],
   "source": [
    "#Let's register the dataframe as a SQL temporary view in order to make queries\n",
    "df.createOrReplaceTempView(\"scholarships\")\n",
    "\n",
    "#Query all the scholarships that procede from outside the United States of America\n",
    "sqlDF = spark.sql(\"SELECT * FROM scholarships WHERE scholarships.location != 'united-states'\")\n",
    "sqlDF.show()"
   ]
  },
  {
   "cell_type": "code",
   "execution_count": 50,
   "metadata": {},
   "outputs": [
    {
     "name": "stdout",
     "output_type": "stream",
     "text": [
      "+---+--------------------+-------+--------------------+-------------+--------+\n",
      "|_c0|               title|degrees|               funds|         date|location|\n",
      "+---+--------------------+-------+--------------------+-------------+--------+\n",
      "|161|P.E.O. Internatio...|    Phd|             $20,000|         null|  canada|\n",
      "|270|Silver Anniversar...|    Phd|             $20,000|         null|  canada|\n",
      "|392|International Pos...|    Phd|$55,000 p.a. + be...|         null|  canada|\n",
      "|400|University of Ott...|    Phd|         $9,000 p.a.|         null|  canada|\n",
      "|499|Fully-Funded PhD ...|    Phd|             £15,009|         null|  canada|\n",
      "|505|IPRA Foundation P...|    Phd|        Fully Funded|Always Active|  canada|\n",
      "|506|Centre for Studie...|    Phd|    Partially Funded|Always Active|  canada|\n",
      "|509|European Molecula...|    Phd|        Fully Funded|Always Active|  canada|\n",
      "|510|John Dillon Fello...|    Phd|        Fully Funded|Always Active|  canada|\n",
      "|511|Konrad von Moltke...|    Phd|        Fully Funded|Always Active|  canada|\n",
      "|512|Institute for Cur...|    Phd|        Fully Funded|Always Active|  canada|\n",
      "|547|International Cou...|    Phd|        Fully Funded|Always Active|  canada|\n",
      "|548|The Boehringer In...|    Phd|        Fully Funded|Always Active|  canada|\n",
      "|549|The Boehringer In...|    Phd|        Fully Funded|Always Active|  canada|\n",
      "|555|Hayek Fund for Sc...|    Phd|    Partially Funded|Always Active|  canada|\n",
      "|556|The Humane Studie...|    Phd|        Fully Funded|Always Active|  canada|\n",
      "|557|IIASA Funded Post...|    Phd|        Fully Funded|Always Active|  canada|\n",
      "|591|        Horizon 2020|    Phd|        Fully Funded|Always Active|  canada|\n",
      "|592|PhD Position in F...|    Phd|        Fully Funded|Always Active|  canada|\n",
      "|593|Amelia Earhart Fe...|    Phd|        Fully Funded|Always Active|  canada|\n",
      "+---+--------------------+-------+--------------------+-------------+--------+\n",
      "only showing top 20 rows\n",
      "\n"
     ]
    }
   ],
   "source": [
    "#Show all the interships that are only for students getting a PhD and are from Canada\n",
    "sqlDF = spark.sql(\"SELECT * FROM scholarships WHERE scholarships.location = 'canada' AND scholarships.degrees = 'Phd'\")\n",
    "sqlDF.show()"
   ]
  },
  {
   "cell_type": "code",
   "execution_count": 62,
   "metadata": {},
   "outputs": [
    {
     "name": "stdout",
     "output_type": "stream",
     "text": [
      "+---+--------------------+--------------------+--------------------+----------------+--------+\n",
      "|_c0|               title|             degrees|               funds|            date|location|\n",
      "+---+--------------------+--------------------+--------------------+----------------+--------+\n",
      "| 45|International Stu...|Master, Bachelor,...|        Up to $2,000|22 December 2022|  europe|\n",
      "| 50|Scholarships for ...|Master, Bachelor,...|       $100 to $3000|   24 March 2027|  europe|\n",
      "| 51|LAPTOP Scholarshi...|Master, Bachelor,...|         up to $3000|      6 May 2022|  europe|\n",
      "| 53|Five scholarships...|Master, Bachelor,...|               $3000|      6 May 2022|  europe|\n",
      "|167|Eon Essay Contest...|Master, Bachelor,...|15,000 USD top pr...|    15 June 2022|  europe|\n",
      "|168| Anonymous Hope Fund|Master, Bachelor,...|               $3000| 15 January 2026|  europe|\n",
      "|171|The Annual IELTS ...|Master, Bachelor,...|              $1,000|    1 April 2023|  europe|\n",
      "|286|FindDataLab Resea...|Bachelor, Master,...|Up to $1,000 towa...|            null|  europe|\n",
      "|294|Fully-Funded PhD ...|                 Phd|             £15,009|            null|  europe|\n",
      "|295|Marine Stewardshi...|Bachelor, Master,...|         Up to £4000|            null|  europe|\n",
      "|296|WCC scholarships ...|Bachelor, Master,...|        Fully Funded|   Always Active|  europe|\n",
      "|297|IPRA Foundation P...|                 Phd|        Fully Funded|   Always Active|  europe|\n",
      "|299|ROTARY GLOBAL GRANTS|         Master, Phd|        Fully Funded|   Always Active|  europe|\n",
      "|405|European Molecula...|                 Phd|        Fully Funded|   Always Active|  europe|\n",
      "|406|John Dillon Fello...|                 Phd|        Fully Funded|   Always Active|  europe|\n",
      "|407|Institute for Cur...|                 Phd|        Fully Funded|   Always Active|  europe|\n",
      "|409|International Cou...|                 Phd|        Fully Funded|   Always Active|  europe|\n",
      "|410|The Boehringer In...|                 Phd|        Fully Funded|   Always Active|  europe|\n",
      "|411|The Boehringer In...|                 Phd|        Fully Funded|   Always Active|  europe|\n",
      "|413|Hayek Fund for Sc...|                 Phd|    Partially Funded|   Always Active|  europe|\n",
      "+---+--------------------+--------------------+--------------------+----------------+--------+\n",
      "only showing top 20 rows\n",
      "\n"
     ]
    }
   ],
   "source": [
    "#Show all the interships from Europe that are available for students getting a Phd, but other type of students also may apply\n",
    "sqlDF = spark.sql(\"SELECT * FROM scholarships WHERE scholarships.location = 'europe' AND scholarships.degrees LIKE '%Phd%'\")\n",
    "sqlDF.show()"
   ]
  },
  {
   "cell_type": "code",
   "execution_count": null,
   "metadata": {},
   "outputs": [],
   "source": []
  }
 ],
 "metadata": {
  "kernelspec": {
   "display_name": "Python 3",
   "language": "python",
   "name": "python3"
  },
  "language_info": {
   "codemirror_mode": {
    "name": "ipython",
    "version": 3
   },
   "file_extension": ".py",
   "mimetype": "text/x-python",
   "name": "python",
   "nbconvert_exporter": "python",
   "pygments_lexer": "ipython3",
   "version": "3.7.9"
  }
 },
 "nbformat": 4,
 "nbformat_minor": 4
}
